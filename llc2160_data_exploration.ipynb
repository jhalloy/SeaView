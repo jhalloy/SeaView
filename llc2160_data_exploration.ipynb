{
 "cells": [
  {
   "cell_type": "markdown",
   "id": "ff5edf9e-1b2c-4e4f-bbac-70c0d7554e29",
   "metadata": {},
   "source": [
    "## This notebook performs some data analysis of the LLC2160 data using the OpenVisus framework."
   ]
  },
  {
   "cell_type": "markdown",
   "id": "3ba0b27c-cda7-4c59-935d-50b7766303a4",
   "metadata": {},
   "source": [
    "## **Step 1: Importing the libraries**"
   ]
  },
  {
   "cell_type": "code",
   "execution_count": 1,
   "id": "c9e182d7",
   "metadata": {
    "tags": []
   },
   "outputs": [],
   "source": [
    "import numpy as np\n",
    "import openvisuspy as ovp\n",
    "import matplotlib.pyplot as plt\n",
    "import os\n",
    "os.environ['VISUS_CACHE']= \"./visus_can_be_deleted\""
   ]
  },
  {
   "cell_type": "markdown",
   "id": "79a02fb9-abd7-4168-9f2d-6700c10d8eba",
   "metadata": {
    "tags": []
   },
   "source": [
    "## **Step 2: Reading the metadata file from cloud**\n",
    "In this section, we define the url locations of the three velocity fields (u, v, w) of the dataset. We then load this data with `LoadDataset`."
   ]
  },
  {
   "cell_type": "code",
   "execution_count": 53,
   "id": "c1051a6e-df5a-45f7-8811-5bfe22ca1807",
   "metadata": {},
   "outputs": [],
   "source": [
    "# LLC2160 data\n",
    "u_url = \"https://maritime.sealstorage.io/api/v0/s3/utah/nasa/dyamond/mit_output/llc2160_arco/visus.idx?access_key=any&secret_key=any&endpoint_url=https://maritime.sealstorage.io/api/v0/s3&cached=arco\"\n",
    "w_url = \"https://maritime.sealstorage.io/api/v0/s3/utah/nasa/dyamond/mit_output/llc2160_w/llc2160_w.idx?access_key=any&secret_key=any&endpoint_url=https://maritime.sealstorage.io/api/v0/s3&cached=arco\"\n",
    "v_url = \"https://maritime.sealstorage.io/api/v0/s3/utah/nasa/dyamond/mit_output/llc2160_v/v_llc2160_x_y_depth.idx?access_key=any&secret_key=any&endpoint_url=https://maritime.sealstorage.io/api/v0/s3&cached=arco\"\n",
    "salinity_url =\"https://maritime.sealstorage.io/api/v0/s3/utah/nasa/dyamond/mit_output/llc2160_salt/salt_llc2160_x_y_depth.idx?access_key=any&secret_key=any&endpoint_url=https://maritime.sealstorage.io/api/v0/s3&cached=arco\"\n",
    "\n",
    "urls = [u_url, w_url, v_url, salinity_url]"
   ]
  },
  {
   "cell_type": "code",
   "execution_count": 108,
   "id": "472f1b60-217f-4f50-96c5-2e079d53559a",
   "metadata": {
    "tags": []
   },
   "outputs": [
    {
     "name": "stdout",
     "output_type": "stream",
     "text": [
      "Dimensions: 8640*6480*90\n",
      "Total Timesteps: 10366\n",
      "Field: u\n",
      "Data Type: float32\n",
      "Dimensions: 8640*6480*90\n",
      "Total Timesteps: 10366\n",
      "Field: w\n",
      "Data Type: float32\n",
      "Dimensions: 8640*6480*90\n",
      "Total Timesteps: 10366\n",
      "Field: v\n",
      "Data Type: float32\n",
      "Dimensions: 8640*6480*90\n",
      "Total Timesteps: 10366\n",
      "Field: salt\n",
      "Data Type: float32\n"
     ]
    }
   ],
   "source": [
    "dbs =  {}\n",
    "for url in urls:\n",
    "    db=ovp.LoadDataset(url)\n",
    "    print(f'Dimensions: {db.getLogicBox()[1][0]}*{db.getLogicBox()[1][1]}*{db.getLogicBox()[1][2]}')\n",
    "    print(f'Total Timesteps: {len(db.getTimesteps())}')\n",
    "    field = db.getField().name\n",
    "    print(f'Field: {field}')\n",
    "    print('Data Type: float32')\n",
    "    dbs[field] = db"
   ]
  },
  {
   "cell_type": "markdown",
   "id": "4ea0a09b-67c3-49cd-ae6b-ceb71716e4c7",
   "metadata": {},
   "source": [
    "#### Load in depth metadata from depth_levels.txt\n",
    "This contains the depth level in meters for each of the 90 levels, with one value on each line of the file."
   ]
  },
  {
   "cell_type": "code",
   "execution_count": 99,
   "id": "d0cc13f1-1754-4e03-b105-bca61977681c",
   "metadata": {},
   "outputs": [
    {
     "name": "stdout",
     "output_type": "stream",
     "text": [
      "[0.5, 1.6, 2.8, 4.2, 5.8, 7.6, 9.7, 12.0, 14.7, 17.7, 21.1, 25.0, 29.3, 34.2, 39.7, 45.8, 52.7, 60.3, 68.7, 78.0, 88.2, 99.4, 112.0, 125.0, 139.0, 155.0, 172.0, 190.0, 209.0, 230.0, 252.0, 275.0, 300.0, 325.0, 352.0, 381.0, 410.0, 441.0, 473.0, 507.0, 541.0, 576.0, 613.0, 651.0, 690.0, 730.0, 771.0, 813.0, 856.0, 900.0, 946.0, 992.0, 1040.0, 1089.0, 1140.0, 1192.0, 1246.0, 1302.0, 1359.0, 1418.0, 1480.0, 1544.0, 1611.0, 1681.0, 1754.0, 1830.0, 1911.0, 1996.0, 2086.0, 2181.0, 2281.0, 2389.0, 2503.0, 2626.0, 2757.0, 2898.0, 3050.0, 3215.0, 3392.0, 3584.0, 3792.0, 4019.0, 4266.0, 4535.0, 4828.0, 5148.0, 5499.0, 5882.0, 6301.0, 6760.0]\n"
     ]
    }
   ],
   "source": [
    "with open('depth_levels.txt', 'r') as f:\n",
    "    depth_levels = [float(line.strip()) for line in f]\n",
    "print(depth_levels)"
   ]
  },
  {
   "cell_type": "markdown",
   "id": "ebe3db04-4720-4e1c-856e-e962d4dda777",
   "metadata": {
    "tags": []
   },
   "source": [
    "## **East-West Velocity (u) Analysis: Single Timestep**\n",
    "We choose quality=0 to analyze the full resolution data. We choose only a single timestep because it is already over 20GB (~5B data points * 4 bytes per point (float32)). The velocity values are in m/s."
   ]
  },
  {
   "cell_type": "markdown",
   "id": "495208aa-9df4-4c56-94e8-bb38f79a8af1",
   "metadata": {},
   "source": [
    "#### Warning: the following cell loads a full resolution timestep which is about 20.15GB"
   ]
  },
  {
   "cell_type": "code",
   "execution_count": 8,
   "id": "38ac03df",
   "metadata": {
    "tags": []
   },
   "outputs": [],
   "source": [
    "u_data = dbs['u'].db.read(time=0, quality=0)"
   ]
  },
  {
   "cell_type": "code",
   "execution_count": 14,
   "id": "dad8a69e-50f3-4c89-a466-ad850ee179cd",
   "metadata": {},
   "outputs": [
    {
     "name": "stdout",
     "output_type": "stream",
     "text": [
      "u_data.shape: (90, 6480, 8640)\n",
      "u_data.dtype: float32\n"
     ]
    }
   ],
   "source": [
    "print(f\"u_data.shape: {u_data.shape}\")\n",
    "print(f\"u_data.dtype: {u_data.dtype}\")"
   ]
  },
  {
   "cell_type": "code",
   "execution_count": 51,
   "id": "ec01b9a3-ff43-4629-8e89-7d8473543b5a",
   "metadata": {},
   "outputs": [
    {
     "name": "stdout",
     "output_type": "stream",
     "text": [
      "Total NaN values: 0\n"
     ]
    }
   ],
   "source": [
    "nan_count = np.sum(np.isnan(u_data))\n",
    "print(f\"Total NaN values: {nan_count}\")"
   ]
  },
  {
   "cell_type": "code",
   "execution_count": 41,
   "id": "4117c5df-b745-4fd2-9899-ad27dd866b97",
   "metadata": {},
   "outputs": [
    {
     "name": "stdout",
     "output_type": "stream",
     "text": [
      "Total zero values: 2715638055\n",
      "Total values: 5038848000\n",
      "Percentage zero values of all data points: 0.5389402607500762\n"
     ]
    }
   ],
   "source": [
    "zero_count = np.sum((u_data == 0).astype(np.uint32)) # cast to uint32 to prevent integer overflow\n",
    "percentage_zero_points = zero_count/u_data.size\n",
    "print(f\"Total zero values: {zero_count}\")\n",
    "print(f\"Total values: {u_data.size}\")\n",
    "print(f\"Percentage zero values of all data points: {percentage_zero_points}\")"
   ]
  },
  {
   "cell_type": "code",
   "execution_count": 43,
   "id": "8c1b85e7-700c-425e-82ef-56a097a40966",
   "metadata": {},
   "outputs": [
    {
     "name": "stdout",
     "output_type": "stream",
     "text": [
      "Mean: 0.0050828359089791775\n",
      "Median: 0.0\n",
      "Min:-6.638339519500732\n",
      "Max: 4.987942695617676\n",
      "Standard Deviation: 0.08878987282514572\n",
      "Variance: 0.007883640937507153\n",
      "25th Percentile: 0.0\n",
      "75th Percentile: 0.0\n"
     ]
    }
   ],
   "source": [
    "print(f\"Mean: {np.mean(u_data)}\")\n",
    "print(f\"Median: {np.median(u_data)}\")\n",
    "print(f\"Min:{np.min(u_data)}\")\n",
    "print(f\"Max: {np.max(u_data)}\")\n",
    "print(f\"Standard Deviation: {np.std(u_data)}\")\n",
    "print(f\"Variance: {np.var(u_data)}\")\n",
    "print(f\"25th Percentile: {np.percentile(u_data, 25)}\")\n",
    "print(f\"75th Percentile: {np.percentile(u_data, 75)}\")"
   ]
  },
  {
   "cell_type": "markdown",
   "id": "a789bec5-4a47-472d-bc20-5bcf495878cc",
   "metadata": {},
   "source": [
    "Obtain metrics for **non-zero** data points"
   ]
  },
  {
   "cell_type": "code",
   "execution_count": 45,
   "id": "703eb0b1-7c11-4012-bcf7-ac0666346a79",
   "metadata": {},
   "outputs": [
    {
     "name": "stdout",
     "output_type": "stream",
     "text": [
      "Number of non-zero elements: 2323209945\n",
      "Mean: 0.011024386622011662\n",
      "Median: 0.004750885535031557\n",
      "Min: -6.638339519500732\n",
      "Max: 4.987942695617676\n",
      "Standard Deviation: 0.13056856393814087\n",
      "Variance: 0.017048150300979614\n",
      "25th Percentile: -0.04044433310627937\n",
      "75th Percentile: 0.05358494445681572\n"
     ]
    }
   ],
   "source": [
    "non_zero_u_data = u_data[u_data != 0]\n",
    "\n",
    "print(f\"Number of non-zero elements: {non_zero_u_data.size}\")\n",
    "print(f\"Mean: {np.mean(non_zero_u_data)}\")\n",
    "print(f\"Median: {np.median(non_zero_u_data)}\")\n",
    "print(f\"Min: {np.min(non_zero_u_data)}\")\n",
    "print(f\"Max: {np.max(non_zero_u_data)}\")\n",
    "print(f\"Standard Deviation: {np.std(non_zero_u_data)}\")\n",
    "print(f\"Variance: {np.var(non_zero_u_data)}\")\n",
    "print(f\"25th Percentile: {np.percentile(non_zero_u_data, 25)}\")\n",
    "print(f\"75th Percentile: {np.percentile(non_zero_u_data, 75)}\")"
   ]
  },
  {
   "cell_type": "markdown",
   "id": "04356ba5-08c9-4d01-a40e-de678d8b06aa",
   "metadata": {},
   "source": [
    "#### Calculate the percentage of data points that equal zero for each depth slice"
   ]
  },
  {
   "cell_type": "code",
   "execution_count": 83,
   "id": "d6399675-f796-4673-9aea-f7302c9db3ae",
   "metadata": {},
   "outputs": [],
   "source": [
    "zero_percentages = []\n",
    "total_count = u_data[0].size\n",
    "for depth in range(u_data.shape[0]):\n",
    "    zero_count = np.sum(u_data[depth]==0)\n",
    "    zero_percentages.append(zero_count/total_count)"
   ]
  },
  {
   "cell_type": "code",
   "execution_count": 105,
   "id": "c6f34707-c1f8-4a4f-83cf-4088643baff2",
   "metadata": {},
   "outputs": [
    {
     "data": {
      "image/png": "[encoded data removed]",
      "text/plain": [
       "<Figure size 800x500 with 1 Axes>"
      ]
     },
     "metadata": {},
     "output_type": "display_data"
    }
   ],
   "source": [
    "depths = np.arange(len(zero_percentages))  # X-axis: depth index\n",
    "\n",
    "plt.figure(figsize=(8, 5))\n",
    "plt.plot(depth_levels, zero_percentages, marker='o', linestyle='-', color='blue', ms=3)\n",
    "plt.xlabel(\"Depth (m)\")\n",
    "plt.ylabel(\"Zero Percentage\")\n",
    "plt.title(\"U Field Zero Percentage vs Depth\")\n",
    "plt.grid(True)\n",
    "plt.tight_layout()\n",
    "plt.show()"
   ]
  },
  {
   "cell_type": "code",
   "execution_count": 110,
   "id": "bc883077-f1ef-48b0-8588-cf11977dc8b4",
   "metadata": {},
   "outputs": [],
   "source": [
    "del non_zero_u_data"
   ]
  },
  {
   "cell_type": "code",
   "execution_count": 112,
   "id": "726b6d22-09ba-4024-b5ef-76a0792a2e5a",
   "metadata": {},
   "outputs": [
    {
     "ename": "MemoryError",
     "evalue": "Unable to allocate 18.8 GiB for an array with shape (90, 6480, 8640) and data type float32",
     "output_type": "error",
     "traceback": [
      "\u001b[1;31m---------------------------------------------------------------------------\u001b[0m",
      "\u001b[1;31mMemoryError\u001b[0m                               Traceback (most recent call last)",
      "Cell \u001b[1;32mIn[112], line 1\u001b[0m\n\u001b[1;32m----> 1\u001b[0m salt_data \u001b[38;5;241m=\u001b[39m \u001b[43mdbs\u001b[49m\u001b[43m[\u001b[49m\u001b[38;5;124;43m'\u001b[39;49m\u001b[38;5;124;43msalt\u001b[39;49m\u001b[38;5;124;43m'\u001b[39;49m\u001b[43m]\u001b[49m\u001b[38;5;241;43m.\u001b[39;49m\u001b[43mdb\u001b[49m\u001b[38;5;241;43m.\u001b[39;49m\u001b[43mread\u001b[49m\u001b[43m(\u001b[49m\u001b[43mtime\u001b[49m\u001b[38;5;241;43m=\u001b[39;49m\u001b[38;5;241;43m0\u001b[39;49m\u001b[43m,\u001b[49m\u001b[43m \u001b[49m\u001b[43mquality\u001b[49m\u001b[38;5;241;43m=\u001b[39;49m\u001b[38;5;241;43m0\u001b[39;49m\u001b[43m)\u001b[49m\n",
      "File \u001b[1;32m~\\anaconda3\\envs\\OpenVisus-NASA\\lib\\site-packages\\OpenVisus\\dataset.py:386\u001b[0m, in \u001b[0;36mPyDataset.read\u001b[1;34m(self, logic_box, x, y, z, time, field, field_name, num_refinements, quality, max_resolution, disable_filters, access)\u001b[0m\n\u001b[0;32m    383\u001b[0m \t\t\u001b[38;5;28;01myield\u001b[39;00m data\n\u001b[0;32m    384\u001b[0m \t\t\u001b[38;5;28mself\u001b[39m\u001b[38;5;241m.\u001b[39mdb\u001b[38;5;241m.\u001b[39mnextBoxQuery(query)\t\n\u001b[1;32m--> 386\u001b[0m \u001b[38;5;28;01mreturn\u001b[39;00m \u001b[43mNoGenerator\u001b[49m\u001b[43m(\u001b[49m\u001b[43m)\u001b[49m \u001b[38;5;28;01mif\u001b[39;00m query\u001b[38;5;241m.\u001b[39mend_resolutions\u001b[38;5;241m.\u001b[39msize()\u001b[38;5;241m==\u001b[39m\u001b[38;5;241m1\u001b[39m \u001b[38;5;28;01melse\u001b[39;00m WithGenerator()\n",
      "File \u001b[1;32m~\\anaconda3\\envs\\OpenVisus-NASA\\lib\\site-packages\\OpenVisus\\dataset.py:372\u001b[0m, in \u001b[0;36mPyDataset.read.<locals>.NoGenerator\u001b[1;34m()\u001b[0m\n\u001b[0;32m    370\u001b[0m \t\u001b[38;5;28;01mraise\u001b[39;00m \u001b[38;5;167;01mException\u001b[39;00m(\u001b[38;5;124m\"\u001b[39m\u001b[38;5;124mquery error \u001b[39m\u001b[38;5;132;01m{0}\u001b[39;00m\u001b[38;5;124m\"\u001b[39m\u001b[38;5;241m.\u001b[39mformat(query\u001b[38;5;241m.\u001b[39merrormsg))\n\u001b[0;32m    371\u001b[0m \u001b[38;5;66;03m# i cannot be sure how the numpy will be used outside or when the query will dealllocate the buffer\u001b[39;00m\n\u001b[1;32m--> 372\u001b[0m data\u001b[38;5;241m=\u001b[39m\u001b[43mArray\u001b[49m\u001b[38;5;241;43m.\u001b[39;49m\u001b[43mtoNumPy\u001b[49m\u001b[43m(\u001b[49m\u001b[43mquery\u001b[49m\u001b[38;5;241;43m.\u001b[39;49m\u001b[43mbuffer\u001b[49m\u001b[43m,\u001b[49m\u001b[43m \u001b[49m\u001b[43mbShareMem\u001b[49m\u001b[38;5;241;43m=\u001b[39;49m\u001b[38;5;28;43;01mFalse\u001b[39;49;00m\u001b[43m)\u001b[49m \n\u001b[0;32m    373\u001b[0m \u001b[38;5;28;01mreturn\u001b[39;00m data\n",
      "File \u001b[1;32m~\\anaconda3\\envs\\OpenVisus-NASA\\lib\\site-packages\\OpenVisus\\VisusKernelPy.py:5909\u001b[0m, in \u001b[0;36mArray.toNumPy\u001b[1;34m(src, bShareMem, bSqueeze)\u001b[0m\n\u001b[0;32m   5899\u001b[0m holder \u001b[38;5;241m=\u001b[39m MyNumPyHolder()\n\u001b[0;32m   5901\u001b[0m holder\u001b[38;5;241m.\u001b[39m__array_interface__ \u001b[38;5;241m=\u001b[39m {\n\u001b[0;32m   5902\u001b[0m \t\u001b[38;5;124m'\u001b[39m\u001b[38;5;124mstrides\u001b[39m\u001b[38;5;124m'\u001b[39m: \u001b[38;5;28;01mNone\u001b[39;00m,\n\u001b[0;32m   5903\u001b[0m \t\u001b[38;5;124m'\u001b[39m\u001b[38;5;124mshape\u001b[39m\u001b[38;5;124m'\u001b[39m: \u001b[38;5;28mtuple\u001b[39m(shape), \n\u001b[1;32m   (...)\u001b[0m\n\u001b[0;32m   5906\u001b[0m \t\u001b[38;5;124m'\u001b[39m\u001b[38;5;124mversion\u001b[39m\u001b[38;5;124m'\u001b[39m: \u001b[38;5;241m3\u001b[39m \n\u001b[0;32m   5907\u001b[0m }\n\u001b[1;32m-> 5909\u001b[0m \u001b[38;5;28;01mreturn\u001b[39;00m \u001b[43mnumpy\u001b[49m\u001b[38;5;241;43m.\u001b[39;49m\u001b[43marray\u001b[49m\u001b[43m(\u001b[49m\u001b[43mholder\u001b[49m\u001b[43m,\u001b[49m\u001b[43m \u001b[49m\u001b[43mcopy\u001b[49m\u001b[38;5;241;43m=\u001b[39;49m\u001b[38;5;28;43;01mFalse\u001b[39;49;00m\u001b[43m \u001b[49m\u001b[38;5;28;43;01mif\u001b[39;49;00m\u001b[43m \u001b[49m\u001b[43mbShareMem\u001b[49m\u001b[43m \u001b[49m\u001b[38;5;28;43;01melse\u001b[39;49;00m\u001b[43m \u001b[49m\u001b[38;5;28;43;01mTrue\u001b[39;49;00m\u001b[43m)\u001b[49m\n",
      "\u001b[1;31mMemoryError\u001b[0m: Unable to allocate 18.8 GiB for an array with shape (90, 6480, 8640) and data type float32"
     ]
    }
   ],
   "source": [
    "salt_data = dbs['salt'].db.read(time=0, quality=0)"
   ]
  },
  {
   "cell_type": "code",
   "execution_count": 125,
   "id": "042797b2-3604-48bb-a1fd-f2f516f918d8",
   "metadata": {},
   "outputs": [
    {
     "name": "stdout",
     "output_type": "stream",
     "text": [
      "counting depth=0\n",
      "counting depth=1\n",
      "counting depth=2\n",
      "counting depth=3\n",
      "counting depth=4\n",
      "counting depth=5\n",
      "counting depth=6\n",
      "counting depth=7\n",
      "counting depth=8\n",
      "counting depth=9\n",
      "counting depth=10\n",
      "counting depth=11\n",
      "counting depth=12\n",
      "counting depth=13\n",
      "counting depth=14\n",
      "counting depth=15\n",
      "counting depth=16\n",
      "counting depth=17\n",
      "counting depth=18\n",
      "counting depth=19\n",
      "counting depth=20\n",
      "counting depth=21\n",
      "counting depth=22\n",
      "counting depth=23\n",
      "counting depth=24\n",
      "counting depth=25\n",
      "counting depth=26\n",
      "counting depth=27\n",
      "counting depth=28\n",
      "counting depth=29\n",
      "counting depth=30\n",
      "counting depth=31\n",
      "counting depth=32\n",
      "counting depth=33\n",
      "counting depth=34\n",
      "counting depth=35\n",
      "counting depth=36\n",
      "counting depth=37\n",
      "counting depth=38\n",
      "counting depth=39\n",
      "counting depth=40\n",
      "counting depth=41\n",
      "counting depth=42\n",
      "counting depth=43\n",
      "counting depth=44\n",
      "counting depth=45\n",
      "counting depth=46\n",
      "counting depth=47\n",
      "counting depth=48\n",
      "counting depth=49\n",
      "counting depth=50\n",
      "counting depth=51\n",
      "counting depth=52\n",
      "counting depth=53\n",
      "counting depth=54\n",
      "counting depth=55\n",
      "counting depth=56\n",
      "counting depth=57\n",
      "counting depth=58\n",
      "counting depth=59\n",
      "counting depth=60\n",
      "counting depth=61\n",
      "counting depth=62\n",
      "counting depth=63\n",
      "counting depth=64\n",
      "counting depth=65\n",
      "counting depth=66\n",
      "counting depth=67\n",
      "counting depth=68\n",
      "counting depth=69\n",
      "counting depth=70\n",
      "counting depth=71\n",
      "counting depth=72\n",
      "counting depth=73\n",
      "counting depth=74\n",
      "counting depth=75\n",
      "counting depth=76\n",
      "counting depth=77\n",
      "counting depth=78\n",
      "counting depth=79\n",
      "counting depth=80\n",
      "counting depth=81\n",
      "counting depth=82\n",
      "counting depth=83\n",
      "counting depth=84\n",
      "counting depth=85\n",
      "counting depth=86\n",
      "counting depth=87\n",
      "counting depth=88\n",
      "counting depth=89\n",
      "6459414\n"
     ]
    }
   ],
   "source": [
    "only_u_zero = 0\n",
    "for depth in range(u_data.shape[0]):\n",
    "    print(f\"counting depth={depth}\")\n",
    "    salt_data = dbs['salt'].db.read(time=0, quality=0, z=[depth, depth+1])\n",
    "    only_u_zero += np.sum((u_data[depth] == 0) & (salt_data != 0))\n",
    "print(only_u_zero)"
   ]
  },
  {
   "cell_type": "code",
   "execution_count": 127,
   "id": "4bc29de7-e9a2-4a82-b536-4994922895a2",
   "metadata": {},
   "outputs": [
    {
     "name": "stdout",
     "output_type": "stream",
     "text": [
      "Percentage of all points where u==0 and salt!=0: 0.0012819227728242647\n"
     ]
    }
   ],
   "source": [
    "print(f\"Percentage of all points where u==0 and salt!=0: {only_u_zero/u_data.size}\")"
   ]
  },
  {
   "cell_type": "markdown",
   "id": "8084e19e-90bc-4c3a-8eca-e295351f2b17",
   "metadata": {
    "tags": []
   },
   "source": [
    "## **North-South Velocity (v) Analysis: Single Timestep**\n",
    "We choose quality=0 to analyze the full resolution data. We choose only a single timestep because it is already over 20GB (~5B data points * 4 bytes per point (float32)). The velocity values are in m/s."
   ]
  },
  {
   "cell_type": "markdown",
   "id": "4b75bed7-b991-4674-a709-bbef1a1b97ac",
   "metadata": {},
   "source": [
    "#### Warning: the following cell loads a full resolution timestep which is about 20.15GB"
   ]
  }
 ],
 "metadata": {
  "kernelspec": {
   "display_name": "Python [conda env:OpenVisus-NASA]",
   "language": "python",
   "name": "conda-env-OpenVisus-NASA-py"
  },
  "language_info": {
   "codemirror_mode": {
    "name": "ipython",
    "version": 3
   },
   "file_extension": ".py",
   "mimetype": "text/x-python",
   "name": "python",
   "nbconvert_exporter": "python",
   "pygments_lexer": "ipython3",
   "version": "3.10.17"
  }
 },
 "nbformat": 4,
 "nbformat_minor": 5
}
